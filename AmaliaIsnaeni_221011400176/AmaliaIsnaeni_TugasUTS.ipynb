{
  "nbformat": 4,
  "nbformat_minor": 0,
  "metadata": {
    "colab": {
      "provenance": []
    },
    "kernelspec": {
      "name": "python3",
      "display_name": "Python 3"
    },
    "language_info": {
      "name": "python"
    }
  },
  "cells": [
    {
      "cell_type": "code",
      "execution_count": 1,
      "metadata": {
        "colab": {
          "base_uri": "https://localhost:8080/"
        },
        "id": "TEAtyB1qJmpE",
        "outputId": "8a3e1827-f71a-45ea-a40f-39cab1993e3b"
      },
      "outputs": [
        {
          "output_type": "stream",
          "name": "stdout",
          "text": [
            "[{'name': 'Company 3'}, {'name': 'Company 2'}, {'name': 'Company 1'}]\n"
          ]
        }
      ],
      "source": [
        "company_detail_list = [\n",
        "    {'name': 'Company 1', 'domain': 'Retail', 'country': 'United States'},\n",
        "    {'name': 'Company 2', 'domain': 'Technology', 'country': 'United Kingdom'},\n",
        "    {'name': 'Company 3', 'domain': 'Healthcare', 'country': 'United States'}\n",
        "]\n",
        "\n",
        "# Mendapatkan daftar nama perusahaan, lalu mengurutkannya secara terbalik\n",
        "sorted_companies = sorted([{'name': company['name']} for company in company_detail_list], key=lambda x: x['name'], reverse=True)\n",
        "\n",
        "print(sorted_companies)\n"
      ]
    },
    {
      "cell_type": "code",
      "source": [
        "for company in company_detail_list:\n",
        "    print(f\"{company['name']}: {company['domain']} ({company['country']})\")\n"
      ],
      "metadata": {
        "colab": {
          "base_uri": "https://localhost:8080/"
        },
        "id": "gDpmsjqzJtig",
        "outputId": "6f8b7066-e1aa-4c26-fd7e-2384997a9fe6"
      },
      "execution_count": 2,
      "outputs": [
        {
          "output_type": "stream",
          "name": "stdout",
          "text": [
            "Company 1: Retail (United States)\n",
            "Company 2: Technology (United Kingdom)\n",
            "Company 3: Healthcare (United States)\n"
          ]
        }
      ]
    },
    {
      "cell_type": "code",
      "source": [
        "employee_detail_list = [\n",
        "    {'name': 'EMP-0001', 'full_name': 'John Doe', 'company': 'Company 1', 'nationality': 'Australia'},\n",
        "    {'name': 'EMP-0002', 'full_name': 'Tom Smith', 'company': 'Company 2', 'nationality': 'United States'},\n",
        "    {'name': 'EMP-0003', 'full_name': 'Andrew Sebastian', 'company': 'Company 3', 'nationality': 'United States'},\n",
        "    {'name': 'EMP-0005', 'full_name': 'Ying Han Tan', 'company': 'Company 1', 'nationality': 'Australia'},\n",
        "    {'name': 'EMP-0015', 'full_name': 'Kenneth Ng', 'company': 'Company 3', 'nationality': 'United States'},\n",
        "    {'name': 'EMP-0018', 'full_name': 'Rubby Lee', 'company': 'Company 2', 'nationality': 'Hong Kong'},\n",
        "    {'name': 'EMP-0017', 'full_name': 'Robert White', 'company': 'Company 1', 'nationality': 'United Kingdom'}\n",
        "]\n",
        "\n",
        "# Membuat mapping antara nama perusahaan dan domain\n",
        "company_domains = {company['name']: company['domain'] for company in company_detail_list}\n",
        "\n",
        "# Mengelompokkan karyawan berdasarkan domain perusahaan\n",
        "employees_by_domain = {}\n",
        "for employee in employee_detail_list:\n",
        "    domain = company_domains[employee['company']]\n",
        "    if domain not in employees_by_domain:\n",
        "        employees_by_domain[domain] = []\n",
        "    employees_by_domain[domain].append(employee['full_name'])\n",
        "\n",
        "print(employees_by_domain)\n"
      ],
      "metadata": {
        "colab": {
          "base_uri": "https://localhost:8080/"
        },
        "id": "3_428qdIJ2Cn",
        "outputId": "436d6cf4-02d0-48dc-856d-8d5a4958b9e9"
      },
      "execution_count": 5,
      "outputs": [
        {
          "output_type": "stream",
          "name": "stdout",
          "text": [
            "{'Retail': ['John Doe', 'Ying Han Tan', 'Robert White'], 'Technology': ['Tom Smith', 'Rubby Lee'], 'Healthcare': ['Andrew Sebastian', 'Kenneth Ng']}\n"
          ]
        }
      ]
    },
    {
      "cell_type": "code",
      "source": [
        "def get_employees_with_country():\n",
        "    # Membuat mapping antara nama perusahaan dan negara\n",
        "    company_countries = {company['name']: company['country'] for company in company_detail_list}\n",
        "\n",
        "    # Membuat daftar hasil sesuai permintaan\n",
        "    result = []\n",
        "    for employee in employee_detail_list:\n",
        "        result.append({\n",
        "            \"full_name\": employee['full_name'],\n",
        "            \"company\": employee['company'],\n",
        "            \"country\": company_countries[employee['company']]\n",
        "        })\n",
        "    return result\n",
        "\n",
        "print(get_employees_with_country())\n"
      ],
      "metadata": {
        "colab": {
          "base_uri": "https://localhost:8080/"
        },
        "id": "9x3IX8ZpKW9C",
        "outputId": "1567f8c5-5086-4489-de26-1870b7f95b0b"
      },
      "execution_count": 6,
      "outputs": [
        {
          "output_type": "stream",
          "name": "stdout",
          "text": [
            "[{'full_name': 'John Doe', 'company': 'Company 1', 'country': 'United States'}, {'full_name': 'Tom Smith', 'company': 'Company 2', 'country': 'United Kingdom'}, {'full_name': 'Andrew Sebastian', 'company': 'Company 3', 'country': 'United States'}, {'full_name': 'Ying Han Tan', 'company': 'Company 1', 'country': 'United States'}, {'full_name': 'Kenneth Ng', 'company': 'Company 3', 'country': 'United States'}, {'full_name': 'Rubby Lee', 'company': 'Company 2', 'country': 'United Kingdom'}, {'full_name': 'Robert White', 'company': 'Company 1', 'country': 'United States'}]\n"
          ]
        }
      ]
    },
    {
      "cell_type": "code",
      "source": [
        "def get_employee_nationalities():\n",
        "    # Inisialisasi hasil akhir\n",
        "    result = []\n",
        "\n",
        "    # Kelompokkan data karyawan berdasarkan perusahaan dan kebangsaan\n",
        "    for company in company_detail_list:\n",
        "        nationality_count = {}\n",
        "        for employee in employee_detail_list:\n",
        "            if employee['company'] == company['name']:\n",
        "                nationality = employee['nationality']\n",
        "                if nationality in nationality_count:\n",
        "                    nationality_count[nationality] += 1\n",
        "                else:\n",
        "                    nationality_count[nationality] = 1\n",
        "        result.append({\n",
        "            \"company\": company['name'],\n",
        "            \"employee_nationality\": nationality_count\n",
        "        })\n",
        "\n",
        "    return result\n",
        "\n",
        "print(get_employee_nationalities())\n"
      ],
      "metadata": {
        "colab": {
          "base_uri": "https://localhost:8080/"
        },
        "id": "r3RtHffeJ6Ub",
        "outputId": "4f7264c9-f373-457e-b735-d71be61f96ef"
      },
      "execution_count": 4,
      "outputs": [
        {
          "output_type": "stream",
          "name": "stdout",
          "text": [
            "[{'company': 'Company 1', 'employee_nationality': {'Australia': 2, 'United Kingdom': 1}}, {'company': 'Company 2', 'employee_nationality': {'United States': 1, 'Hong Kong': 1}}, {'company': 'Company 3', 'employee_nationality': {'United States': 2}}]\n"
          ]
        }
      ]
    }
  ]
}